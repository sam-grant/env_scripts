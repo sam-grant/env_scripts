{
 "cells": [
  {
   "cell_type": "code",
   "execution_count": 1,
   "id": "5ee4bdb4-b8f1-4860-bd9f-f25046391001",
   "metadata": {},
   "outputs": [
    {
     "name": "stdout",
     "output_type": "stream",
     "text": [
      "matplotlib imported successfully\n",
      "pandas imported successfully\n",
      "uproot imported successfully\n",
      "scipy imported successfully\n",
      "sklearn imported successfully\n",
      "torch imported successfully\n"
     ]
    },
    {
     "name": "stderr",
     "output_type": "stream",
     "text": [
      "2025-01-17 21:11:59.370783: I tensorflow/core/util/port.cc:153] oneDNN custom operations are on. You may see slightly different numerical results due to floating-point round-off errors from different computation orders. To turn them off, set the environment variable `TF_ENABLE_ONEDNN_OPTS=0`.\n",
      "2025-01-17 21:11:59.411176: I tensorflow/core/platform/cpu_feature_guard.cc:210] This TensorFlow binary is optimized to use available CPU instructions in performance-critical operations.\n",
      "To enable the following instructions: SSE4.1 SSE4.2 AVX AVX2 AVX512F AVX512_VNNI FMA, in other operations, rebuild TensorFlow with the appropriate compiler flags.\n"
     ]
    },
    {
     "name": "stdout",
     "output_type": "stream",
     "text": [
      "tensorflow imported successfully\n",
      "jupyterlab imported successfully\n",
      "notebook imported successfully\n",
      "statsmodels imported successfully\n",
      "awkward imported successfully\n",
      "urllib3 imported successfully\n",
      "ipykernel imported successfully\n",
      "vector imported successfully\n",
      "plotly imported successfully\n",
      "dash imported successfully\n",
      "urllib3 version is correct\n",
      "from anapytools.read_data import DataReader imported successfully\n",
      "from anapytools.parallelise import ParallelProcessor imported successfully\n"
     ]
    }
   ],
   "source": [
    "%run test_imports.py"
   ]
  },
  {
   "cell_type": "code",
   "execution_count": null,
   "id": "4ba41bab-66d5-471b-9479-4cfee6f5f507",
   "metadata": {},
   "outputs": [],
   "source": []
  }
 ],
 "metadata": {
  "kernelspec": {
   "display_name": "mu2e_env [conda env:.conda-mu2e_env.v1.2.0]",
   "language": "python",
   "name": "conda-env-.conda-mu2e_env.v1.2.0-mu2e_env.v1.2.0"
  },
  "language_info": {
   "codemirror_mode": {
    "name": "ipython",
    "version": 3
   },
   "file_extension": ".py",
   "mimetype": "text/x-python",
   "name": "python",
   "nbconvert_exporter": "python",
   "pygments_lexer": "ipython3",
   "version": "3.12.7"
  }
 },
 "nbformat": 4,
 "nbformat_minor": 5
}
